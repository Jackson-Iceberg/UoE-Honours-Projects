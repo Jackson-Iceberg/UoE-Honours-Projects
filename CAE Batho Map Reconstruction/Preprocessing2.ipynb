{
 "cells": [
  {
   "cell_type": "code",
   "execution_count": 1,
   "id": "04349311",
   "metadata": {},
   "outputs": [],
   "source": [
    "import numpy as np\n",
    "import matplotlib.pyplot as plt\n",
    "import cv2 as cv\n",
    "from patchify import patchify\n",
    "import PIL\n",
    "from PIL import Image\n",
    "PIL.Image.MAX_IMAGE_PIXELS = 933120000\n",
    "import os\n",
    "import shutil\n",
    "import random\n",
    "%matplotlib inline\n",
    "import torchvision\n",
    "import torch\n",
    "from torch.utils.data import Dataset,DataLoader\n",
    "from torchvision import datasets, transforms\n",
    "from torch import nn\n",
    "from torch import optim\n",
    "import torch.nn.functional as F\n",
    "import statistics"
   ]
  },
  {
   "cell_type": "code",
   "execution_count": 2,
   "id": "49ef27f6",
   "metadata": {},
   "outputs": [
    {
     "name": "stdout",
     "output_type": "stream",
     "text": [
      "(13366, 18460, 3)\n"
     ]
    }
   ],
   "source": [
    "img = cv.imread(\"E:\\PG_HP_FINAL\\CAE Map Reconstruction\\90721368.27.tif\")\n",
    "print(img.shape)"
   ]
  },
  {
   "cell_type": "code",
   "execution_count": 2,
   "id": "fcef66a4",
   "metadata": {},
   "outputs": [
    {
     "name": "stdout",
     "output_type": "stream",
     "text": [
      "['OS_82877409.tif', 'OS_82877412.tif', 'OS_82877415.tif', 'OS_82877418.tif']\n",
      "../OS_map/OS_82877409.tif\n",
      "../OS_map/OS_82877412.tif\n",
      "../OS_map/OS_82877415.tif\n",
      "../OS_map/OS_82877418.tif\n"
     ]
    }
   ],
   "source": [
    "map_name_list = os.listdir('../OS_map')\n",
    "print(map_name_list)\n",
    "for map_name in map_name_list:\n",
    "    map_name_path = '../OS_map/'+map_name\n",
    "    print(map_name_path)"
   ]
  },
  {
   "cell_type": "code",
   "execution_count": 6,
   "id": "d719bcfe",
   "metadata": {},
   "outputs": [
    {
     "name": "stdout",
     "output_type": "stream",
     "text": [
      "img412 shape is (10166, 15249, 3)\n",
      "img415 shape is (10169, 15254, 3)\n",
      "img418 shape is (10178, 15266, 3)\n",
      "img412 shape is (10166, 15249, 3)\n",
      "img415 shape is (10166, 15249, 3)\n",
      "img418 shape is (10166, 15249, 3)\n"
     ]
    }
   ],
   "source": [
    "img412 = cv.imread('../OS_map/OS_82877412.tif')\n",
    "# img412 = cv2.cvtColor(img412, cv2.COLOR_BGR2RGB)\n",
    "print(\"img412 shape is\",img412.shape)\n",
    "\n",
    "img415 = cv.imread('../OS_map/OS_82877415.tif')\n",
    "# img415 = cv2.cvtColor(img415, cv2.COLOR_BGR2RGB)\n",
    "print(\"img415 shape is\",img415.shape)\n",
    "\n",
    "img418 = cv.imread('../OS_map/OS_82877418.tif')\n",
    "# img418 = cv2.cvtColor(img418, cv2.COLOR_BGR2RGB)\n",
    "print(\"img418 shape is\",img418.shape)\n",
    "\n",
    "\n",
    "img412 = img412[:10166,:15249]\n",
    "img415 = img415[:10166,:15249]\n",
    "img418 = img418[:10166,:15249]\n",
    "\n",
    "\n",
    "print(\"img412 shape is\",img412.shape)\n",
    "print(\"img415 shape is\",img415.shape)\n",
    "print(\"img418 shape is\",img418.shape)\n",
    "\n",
    "# img415_CLAHE = cv.imread(\"E:\\HP\\Week9\\OS_415_CLAHE.tif\")\n",
    "# print(\"img415_CLAHE shape is\",img415_CLAHE.shape)\n",
    "# img415_CLAHE = img415_CLAHE[:10166,:15249]\n",
    "# print(\"img415_CLAHE shape is\",img415_CLAHE.shape)\n",
    "\n",
    "# img418_CLAHE = cv.imread(\"E:\\HP\\Week9\\OS_418_CLAHE.tif\")\n",
    "# print(\"img418_CLAHE shape is\",img418_CLAHE.shape)\n",
    "# img418_CLAHE = img418_CLAHE[:10166,:15249]\n",
    "# print(\"img418_CLAHE shape is\",img418_CLAHE.shape)\n",
    "\n",
    "# img415_HE = cv.imread(\"E:\\HP\\Week9\\OS_415_HistEqu.tif\")\n",
    "# print(\"img415_HE shape is\",img415_HE.shape)\n",
    "# img415_HE = img415_CLAHE[:10166,:15249]\n",
    "# print(\"img415_HE shape is\",img415_HE.shape)\n",
    "\n",
    "# img418_HE = cv.imread(\"E:\\HP\\Week9\\OS_418_HistEqu.tif\")\n",
    "# print(\"img418_HE shape is\",img418_HE.shape)\n",
    "# img418_HE = img418_HE[:10166,:15249]\n",
    "# print(\"img418_HE shape is\",img418_HE.shape)\n",
    "\n",
    "# img_412 = np.array(img412)\n",
    "# img_412 = img_412[:10166,:15249]\n",
    "# print(\"img_412 shape is\",img_412.shape)\n",
    "\n",
    "# img_415 = np.array(img415)\n",
    "# img_415 = img_415[:10166,:15249]\n",
    "# print(\"img_415 shape is\",img_415.shape)\n",
    "\n",
    "# img_418 = np.array(img418)\n",
    "# img_418 = img_418[:10166,:15249]\n",
    "# print(\"img_418 shape is\",img_418.shape)"
   ]
  },
  {
   "cell_type": "code",
   "execution_count": 10,
   "id": "ef857601",
   "metadata": {},
   "outputs": [
    {
     "name": "stdout",
     "output_type": "stream",
     "text": [
      "(10169, 15254, 3)\n"
     ]
    }
   ],
   "source": [
    "imgHist = cv.imread(\"E:\\HP\\Paper_writing\\OS_82877415_HistEqu.tif\")\n",
    "\n",
    "print(imgHist.shape)"
   ]
  },
  {
   "cell_type": "code",
   "execution_count": 11,
   "id": "d49e7669",
   "metadata": {},
   "outputs": [],
   "source": [
    "patch_width = 64\n",
    "tif_map_patches = patchify(image = imgHist , patch_size = (patch_width, patch_width,3),step = patch_width)\n",
    "row = tif_map_patches.shape[0]\n",
    "col = tif_map_patches.shape[1]\n",
    "tif_map_patches = tif_map_patches.reshape(row, col, patch_width, patch_width, 3)\n",
    "for i in range(row):\n",
    "    for j in range(col):\n",
    "        patch = tif_map_patches[i][j]\n",
    "        path = '415_HIST/patch_{r}_{c}.png'.format(r=i,c=j)\n",
    "        cv.imwrite(path,patch)"
   ]
  },
  {
   "cell_type": "code",
   "execution_count": 3,
   "id": "46db292f",
   "metadata": {},
   "outputs": [
    {
     "name": "stdout",
     "output_type": "stream",
     "text": [
      "(13366, 18460, 3)\n"
     ]
    }
   ],
   "source": [
    "img = cv.imread(\"E:\\PG_HP_FINAL\\CAE Map Reconstruction\\90721368.27.tif\")\n",
    "print(img.shape)"
   ]
  },
  {
   "cell_type": "code",
   "execution_count": 7,
   "id": "851a751d",
   "metadata": {},
   "outputs": [],
   "source": [
    "patch_width = 256\n",
    "tif_map_patches = patchify(image = img , patch_size = (patch_width, patch_width,3),step = patch_width)\n",
    "row = tif_map_patches.shape[0]\n",
    "col = tif_map_patches.shape[1]\n",
    "tif_map_patches = tif_map_patches.reshape(row, col, patch_width, patch_width, 3)\n",
    "for i in range(row):\n",
    "    for j in range(col):\n",
    "        patch = tif_map_patches[i][j]\n",
    "        \n",
    "        path = 'Batho_90721368(256)/patch_{r}_{c}.png'.format(r=i,c=j)\n",
    "        cv.imwrite(path,patch)"
   ]
  },
  {
   "cell_type": "code",
   "execution_count": 15,
   "id": "c006182a",
   "metadata": {},
   "outputs": [
    {
     "name": "stdout",
     "output_type": "stream",
     "text": [
      "(10166, 15249, 3)\n",
      "[[[0 0 0]\n",
      "  [0 0 0]\n",
      "  [0 0 0]\n",
      "  ...\n",
      "  [0 0 0]\n",
      "  [0 0 0]\n",
      "  [0 0 0]]\n",
      "\n",
      " [[0 0 0]\n",
      "  [0 0 0]\n",
      "  [0 0 0]\n",
      "  ...\n",
      "  [0 0 0]\n",
      "  [0 0 0]\n",
      "  [0 0 0]]\n",
      "\n",
      " [[0 0 0]\n",
      "  [0 0 0]\n",
      "  [0 0 0]\n",
      "  ...\n",
      "  [0 0 0]\n",
      "  [0 0 0]\n",
      "  [0 0 0]]\n",
      "\n",
      " ...\n",
      "\n",
      " [[0 0 0]\n",
      "  [0 0 0]\n",
      "  [0 0 0]\n",
      "  ...\n",
      "  [0 0 0]\n",
      "  [0 0 0]\n",
      "  [0 0 0]]\n",
      "\n",
      " [[0 0 0]\n",
      "  [0 0 0]\n",
      "  [0 0 0]\n",
      "  ...\n",
      "  [0 0 0]\n",
      "  [0 0 0]\n",
      "  [0 0 0]]\n",
      "\n",
      " [[0 0 0]\n",
      "  [0 0 0]\n",
      "  [0 0 0]\n",
      "  ...\n",
      "  [0 0 0]\n",
      "  [0 0 0]\n",
      "  [0 0 0]]]\n"
     ]
    }
   ],
   "source": [
    "output_patches = np.empty(img_418.shape).astype(np.uint8)\n",
    "print(output_patches.shape)\n",
    "print(output_patches)"
   ]
  },
  {
   "cell_type": "code",
   "execution_count": 23,
   "id": "8843622e",
   "metadata": {},
   "outputs": [],
   "source": [
    "row = img_418.shape[0]\n",
    "col = img_418.shape[1]\n",
    "for i in range(row):\n",
    "    for j in range(col):\n",
    "        img412_x = img_412[i][j][0]\n",
    "        img412_y = img_412[i][j][1]\n",
    "        img412_z = img_412[i][j][2]\n",
    "        \n",
    "        img415_x = img_415[i][j][0]\n",
    "        img415_y = img_415[i][j][1]\n",
    "        img415_z = img_415[i][j][2]\n",
    "        \n",
    "        img418_x = img_418[i][j][0]\n",
    "        img418_y = img_418[i][j][1]\n",
    "        img418_z = img_418[i][j][2]\n",
    "        \n",
    "        output_patches[i][j][0] = statistics.median([img412_x,img415_x,img418_x])                                            \n",
    "        output_patches[i][j][1] = statistics.median([img412_y,img415_y,img418_y])\n",
    "        output_patches[i][j][2] = statistics.median([img412_z,img415_z,img418_z])                                           "
   ]
  },
  {
   "cell_type": "code",
   "execution_count": 24,
   "id": "05d83d71",
   "metadata": {},
   "outputs": [
    {
     "data": {
      "text/plain": [
       "True"
      ]
     },
     "execution_count": 24,
     "metadata": {},
     "output_type": "execute_result"
    }
   ],
   "source": [
    "# print(output_image.shape)\n",
    "cv.imwrite(\"MedianValue2_Image_412415418.tif\",output_patches)"
   ]
  },
  {
   "cell_type": "code",
   "execution_count": 7,
   "id": "dc4d8d08",
   "metadata": {},
   "outputs": [
    {
     "name": "stdout",
     "output_type": "stream",
     "text": [
      "img_418 shape is (10166, 15249, 3)\n"
     ]
    }
   ],
   "source": [
    "print(\"img_418 shape is\",img_418.shape)"
   ]
  },
  {
   "cell_type": "code",
   "execution_count": 14,
   "id": "1c55d7dc",
   "metadata": {},
   "outputs": [],
   "source": [
    "patch_width = 5000\n",
    "tif_map_patches = patchify(image = img_415, patch_size = (patch_width, patch_width,3),step = patch_width)\n",
    "row = tif_map_patches.shape[0]\n",
    "col = tif_map_patches.shape[1]\n",
    "tif_map_patches = tif_map_patches.reshape(row, col, patch_width, patch_width, 3)\n",
    "for i in range(row):\n",
    "    for j in range(col):\n",
    "        patch = tif_map_patches[i][j]\n",
    "        path = 'OS_415(5000)/patch_{r}_{c}.tif'.format(r=i,c=j)\n",
    "        cv.imwrite(path,patch)"
   ]
  },
  {
   "cell_type": "code",
   "execution_count": 3,
   "id": "9b84f676",
   "metadata": {},
   "outputs": [],
   "source": [
    "patch_width = 64\n",
    "tif_map_patches = patchify(image = img_median, patch_size = (patch_width, patch_width,3),step = patch_width)\n",
    "row = tif_map_patches.shape[0]\n",
    "col = tif_map_patches.shape[1]\n",
    "tif_map_patches = tif_map_patches.reshape(row, col, patch_width, patch_width, 3)\n",
    "for i in range(row):\n",
    "    for j in range(col):\n",
    "        patch = tif_map_patches[i][j]\n",
    "        path = 'OS_Median[412_415_418]/patch_{r}_{c}.tif'.format(r=i,c=j)\n",
    "        cv.imwrite(path,patch)"
   ]
  },
  {
   "cell_type": "code",
   "execution_count": 4,
   "id": "649f078d",
   "metadata": {},
   "outputs": [],
   "source": [
    "patch_width = 128\n",
    "tif_map_patches = patchify(image = img_415, patch_size = (patch_width, patch_width,3),step = patch_width)\n",
    "row = tif_map_patches.shape[0]\n",
    "col = tif_map_patches.shape[1]\n",
    "tif_map_patches = tif_map_patches.reshape(row, col, patch_width, patch_width, 3)\n",
    "for i in range(row):\n",
    "    for j in range(col):\n",
    "        patch = tif_map_patches[i][j]\n",
    "        path = 'OS_415(128)/patch_{r}_{c}.tif'.format(r=i,c=j)\n",
    "        cv.imwrite(path,patch)"
   ]
  },
  {
   "cell_type": "code",
   "execution_count": 5,
   "id": "974afb9b",
   "metadata": {},
   "outputs": [],
   "source": [
    "patch_width = 256\n",
    "tif_map_patches = patchify(image = img_415, patch_size = (patch_width, patch_width,3),step = patch_width)\n",
    "row = tif_map_patches.shape[0]\n",
    "col = tif_map_patches.shape[1]\n",
    "tif_map_patches = tif_map_patches.reshape(row, col, patch_width, patch_width, 3)\n",
    "for i in range(row):\n",
    "    for j in range(col):\n",
    "        patch = tif_map_patches[i][j]\n",
    "        path = 'OS_415(256)/patch_{r}_{c}.tif'.format(r=i,c=j)\n",
    "        cv.imwrite(path,patch)"
   ]
  },
  {
   "cell_type": "code",
   "execution_count": 5,
   "id": "c1725e5e",
   "metadata": {},
   "outputs": [],
   "source": [
    "patch_width = 64\n",
    "tif_map_patches = patchify(image = img_415 , patch_size = (patch_width, patch_width,3),step = patch_width)\n",
    "row = tif_map_patches.shape[0]\n",
    "col = tif_map_patches.shape[1]\n",
    "tif_map_patches = tif_map_patches.reshape(row, col, patch_width, patch_width, 3)\n",
    "for i in range(row):\n",
    "    for j in range(col):\n",
    "        patch = tif_map_patches[i][j]\n",
    "        path = 'OS_415(64)/patch_{r}_{c}.tif'.format(r=i,c=j)\n",
    "        cv.imwrite(path,patch)"
   ]
  },
  {
   "cell_type": "code",
   "execution_count": 8,
   "id": "a8d01814",
   "metadata": {},
   "outputs": [],
   "source": [
    "patch_width = 64\n",
    "tif_map_patches = patchify(image = img_418 , patch_size = (patch_width, patch_width,3),step = patch_width)\n",
    "row = tif_map_patches.shape[0]\n",
    "col = tif_map_patches.shape[1]\n",
    "tif_map_patches = tif_map_patches.reshape(row, col, patch_width, patch_width, 3)\n",
    "for i in range(row):\n",
    "    for j in range(col):\n",
    "        patch = tif_map_patches[i][j]\n",
    "        path = 'OS_418(64)/patch_{r}_{c}.tif'.format(r=i,c=j)\n",
    "        cv.imwrite(path,patch)"
   ]
  },
  {
   "cell_type": "code",
   "execution_count": null,
   "id": "823d21cc",
   "metadata": {},
   "outputs": [],
   "source": []
  }
 ],
 "metadata": {
  "kernelspec": {
   "display_name": "Python [conda env:ML] *",
   "language": "python",
   "name": "conda-env-ML-py"
  },
  "language_info": {
   "codemirror_mode": {
    "name": "ipython",
    "version": 3
   },
   "file_extension": ".py",
   "mimetype": "text/x-python",
   "name": "python",
   "nbconvert_exporter": "python",
   "pygments_lexer": "ipython3",
   "version": "3.8.16"
  }
 },
 "nbformat": 4,
 "nbformat_minor": 5
}
