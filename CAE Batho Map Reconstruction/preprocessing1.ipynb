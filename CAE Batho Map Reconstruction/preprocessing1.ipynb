{
 "cells": [
  {
   "cell_type": "code",
   "execution_count": 1,
   "id": "b72730c8",
   "metadata": {},
   "outputs": [],
   "source": [
    "import numpy as np\n",
    "import matplotlib.pyplot as plt\n",
    "import cv2 as cv\n",
    "from patchify import patchify\n",
    "import PIL\n",
    "from PIL import Image\n",
    "PIL.Image.MAX_IMAGE_PIXELS = 933120000\n",
    "import os\n",
    "import shutil\n",
    "import random\n",
    "%matplotlib inline\n",
    "import torchvision\n",
    "import torch\n",
    "from torch.utils.data import Dataset,DataLoader\n",
    "from torchvision import datasets, transforms\n",
    "from torch import nn\n",
    "from torch import optim\n",
    "import torch.nn.functional as F\n",
    "import cv2"
   ]
  },
  {
   "cell_type": "code",
   "execution_count": null,
   "id": "53ca9345",
   "metadata": {},
   "outputs": [
    {
     "name": "stdout",
     "output_type": "stream",
     "text": [
      "E:/HP/Bartholomew_Edinburgh_Maps/103247211.27.tif\n",
      "The rotated angle is 1.203\n",
      "Rotated_cropped Success 103247211.27.tif\n",
      "E:/HP/Bartholomew_Edinburgh_Maps/77775504.27.tif\n",
      "The rotated angle is 0.000\n",
      "Rotated_cropped Success 77775504.27.tif\n",
      "E:/HP/Bartholomew_Edinburgh_Maps/82833386.27.tif\n",
      "The rotated angle is 1.130\n"
     ]
    }
   ],
   "source": [
    "# Preprocessing map image\n",
    "# Batch pre-processing Map image and save it into rotated_cropped_map_image file\n",
    "\n",
    "# Currently the preprocessing only includes the rotated and cropped part.\n",
    "# The image will store in rotated_cropped_map_image file\n",
    "\n",
    "class Preprocessing(object):\n",
    "    \n",
    "    def __init__(self,path):\n",
    "        self.path = path\n",
    "        self.map_img = cv.imread(path)\n",
    "        self.rotated_cropped_img = self.rotate_crop_map(self.map_img)\n",
    "        self.saveImage(self.rotated_cropped_img)\n",
    "        \n",
    "    def rotate_crop_map(self,map_img):\n",
    "        gray = cv.cvtColor(map_img, cv.COLOR_RGB2GRAY)\n",
    "        gray = 255 - gray\n",
    "        thresh = cv.threshold(gray, 0, 255, cv.THRESH_BINARY + cv.THRESH_OTSU)[1]\n",
    "\n",
    "        # Compute rotated bounding box\n",
    "        coords = np.column_stack(np.where(thresh > 0))\n",
    "        center_rect, dims, angle = cv.minAreaRect(coords)\n",
    "\n",
    "        if angle < -45:\n",
    "            angle = -angle\n",
    "        else:\n",
    "            angle = 90-angle\n",
    "        \n",
    "        print(\"The rotated angle is %.3f\" %angle)\n",
    "\n",
    "        # Rotate image to deskew\n",
    "        (h, w) = map_img.shape[:2]\n",
    "        center = (w // 2, h // 2)\n",
    "        M = cv.getRotationMatrix2D(center, angle, 1.0)\n",
    "        rotated = cv.warpAffine(map_img, M, (w, h), flags=cv.INTER_CUBIC, borderMode=cv.BORDER_REPLICATE)\n",
    "\n",
    "        gray = cv.cvtColor(rotated, cv.COLOR_BGR2GRAY)\n",
    "        gray = 255*(gray < 128).astype(np.uint8) # To invert the text to white\n",
    "        coords = cv.findNonZero(gray) # Find all non-zero points (text)\n",
    "        x, y, w, h = cv.boundingRect(coords) # Find minimum spanning bounding box\n",
    "        rect = rotated[y:y+h, x:x+w] \n",
    "        rect = cv.cvtColor(rect, cv.COLOR_BGR2RGB)\n",
    "\n",
    "        return rect\n",
    "    \n",
    "    def saveImage(self,rotated_cropped_img):\n",
    "        image_name = self.path.split(\"/\")[3]\n",
    "#         print(image_name)\n",
    "        file_path = 'Bartho_img_collection/' + image_name\n",
    "        cv.imwrite(file_path,cv.cvtColor(rotated_cropped_img, cv.COLOR_RGB2BGR))\n",
    "\n",
    "# Batch pre-processing Map image and save it into rotated_cropped_map_image file\n",
    "if __name__ == '__main__':\n",
    "    map_name_list = os.listdir(\"E:\\HP\\Bartholomew_Edinburgh_Maps\")\n",
    "    for map_name in map_name_list:\n",
    "        map_name_path = 'E:/HP/Bartholomew_Edinburgh_Maps/'+map_name\n",
    "        print(map_name_path)\n",
    "        \n",
    "#         map_name_path = 'E:\\HP\\Bartholomew_Edinburgh_Maps\\'\n",
    "        \n",
    "        Preprocessing(map_name_path)\n",
    "        print(\"Rotated_cropped Success \"+map_name)"
   ]
  },
  {
   "cell_type": "code",
   "execution_count": 16,
   "id": "79b4a9d3",
   "metadata": {},
   "outputs": [
    {
     "data": {
      "text/plain": [
       "True"
      ]
     },
     "execution_count": 16,
     "metadata": {},
     "output_type": "execute_result"
    }
   ],
   "source": [
    "img = cv.imread('rotated_cropped_map_image\\90719488.27.tif')\n",
    "# \"E:\\HP\\Code\\rotated_cropped_map_image\\90719488.27.tif\"\n",
    "# print(img.shape)\"E:\\HP\\Code\\rotated_cropped_map_image\\90719485.27.tif\"\n",
    "cv.imwrite('90719488.27.jpg',img)"
   ]
  },
  {
   "cell_type": "code",
   "execution_count": null,
   "id": "3ccbc74e",
   "metadata": {},
   "outputs": [],
   "source": [
    "\"E:\\HP\\Code\\rotated_cropped_map_image\\82833386.27.tif\""
   ]
  },
  {
   "cell_type": "code",
   "execution_count": 9,
   "id": "5b1a24dc",
   "metadata": {},
   "outputs": [
    {
     "name": "stdout",
     "output_type": "stream",
     "text": [
      "(493, 608, 1, 32, 32, 3)\n",
      "Patches generated with shape: (299744, 32, 32, 3)\n",
      "(443, 589, 1, 32, 32, 3)\n",
      "Patches generated with shape: (260927, 32, 32, 3)\n",
      "(318, 477, 1, 32, 32, 3)\n",
      "Patches generated with shape: (151686, 32, 32, 3)\n",
      "(317, 476, 1, 32, 32, 3)\n",
      "Patches generated with shape: (150892, 32, 32, 3)\n"
     ]
    }
   ],
   "source": [
    "# Based on rotated_cropped_map_image file, get the rotated_cropped_map_image\n",
    "# Based on the patch_width, patchify the image into patches.\n",
    "# Store the patches into file.\n",
    "# Patches: Image into Patches(patchify into patches)\n",
    "class Patches(object):\n",
    "    \n",
    "    def __init__(self,image_path,patch_width):\n",
    "        self.image_path = image_path\n",
    "        self.patch_width = patch_width\n",
    "        self.tif_map_patches = None\n",
    "        self.image2patches()\n",
    "        self.getPatchShape()\n",
    "    \n",
    "    def image2patches(self):\n",
    "        tif_map = PIL.Image.open(self.image_path)\n",
    "        tif_map_np = np.array(tif_map)\n",
    "        tif_map_patches = patchify(image = tif_map_np, patch_size = (self.patch_width, self.patch_width, 3),step = self.patch_width)\n",
    "        print(tif_map_patches.shape)\n",
    "        self.tif_map_patches = tif_map_patches.reshape(-1, self.patch_width, self.patch_width,3)\n",
    "    \n",
    "    def getPatchShape(self):\n",
    "        print(f\"Patches generated with shape: {self.tif_map_patches.shape}\")\n",
    "    \n",
    "    def getPatches(self):\n",
    "        return self.tif_map_patches\n",
    "    \n",
    "    def savePatchesImage(self,patches_file_path):\n",
    "        for i in range(len(self.tif_map_patches)):\n",
    "            patch = self.tif_map_patches[i]\n",
    "            patch = Image.fromarray(patch)\n",
    "            path = '{file_path}/patch_{num}.tif'.format(file_path=patches_file_path,num=i)\n",
    "            patch.save(path)\n",
    "            \n",
    "if __name__ == '__main__':\n",
    "    # Patches file.\n",
    "    map_name_list = os.listdir('rotated_cropped_map_image')\n",
    "    patch_width_list = [32,64,128,256]\n",
    "    # Patch size you want to set up.\n",
    "    for patch_width in patch_width_list:\n",
    "        \n",
    "#     patch_width = 32\n",
    "    \n",
    "        for map_name in map_name_list:\n",
    "            # Generate the file that storing the patches.\n",
    "\n",
    "            file = '{map_name}_patches_({size})'.format(map_name=map_name[:-4],size=patch_width)\n",
    "            if os.path.exists(file):\n",
    "                pass\n",
    "            else:\n",
    "                os.makedirs(file)\n",
    "\n",
    "            map_name_path = 'rotated_cropped_map_image/'+map_name\n",
    "            patch = Patches(map_name_path,patch_width)\n",
    "            patch.savePatchesImage(file)"
   ]
  },
  {
   "cell_type": "code",
   "execution_count": 12,
   "id": "5922d30a",
   "metadata": {},
   "outputs": [
    {
     "name": "stdout",
     "output_type": "stream",
     "text": [
      "(61, 76, 1, 256, 256, 3)\n",
      "Patches generated with shape: (4636, 256, 256, 3)\n",
      "(55, 73, 1, 256, 256, 3)\n",
      "Patches generated with shape: (4015, 256, 256, 3)\n",
      "(39, 59, 1, 256, 256, 3)\n",
      "Patches generated with shape: (2301, 256, 256, 3)\n",
      "(39, 59, 1, 256, 256, 3)\n",
      "Patches generated with shape: (2301, 256, 256, 3)\n"
     ]
    }
   ],
   "source": [
    "patch_width = 256\n",
    "for map_name in map_name_list:\n",
    "    # Generate the file that storing the patches.\n",
    "\n",
    "    file = '{map_name}_patches_({size})'.format(map_name=map_name[:-4],size=patch_width)\n",
    "    if os.path.exists(file):\n",
    "        pass\n",
    "    else:\n",
    "        os.makedirs(file)\n",
    "\n",
    "    map_name_path = 'rotated_cropped_map_image/'+map_name\n",
    "    patch = Patches(map_name_path,patch_width)\n",
    "    patch.savePatchesImage(file)"
   ]
  },
  {
   "cell_type": "code",
   "execution_count": null,
   "id": "164f0bc1",
   "metadata": {},
   "outputs": [],
   "source": []
  }
 ],
 "metadata": {
  "kernelspec": {
   "display_name": "Python [conda env:ML] *",
   "language": "python",
   "name": "conda-env-ML-py"
  },
  "language_info": {
   "codemirror_mode": {
    "name": "ipython",
    "version": 3
   },
   "file_extension": ".py",
   "mimetype": "text/x-python",
   "name": "python",
   "nbconvert_exporter": "python",
   "pygments_lexer": "ipython3",
   "version": "3.8.16"
  }
 },
 "nbformat": 4,
 "nbformat_minor": 5
}
